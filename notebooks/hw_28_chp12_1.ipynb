{
 "cells": [
  {
   "cell_type": "code",
   "execution_count": 4,
   "id": "47184d1e-c6ef-408a-9a85-abf5a2314ecd",
   "metadata": {
    "tags": []
   },
   "outputs": [],
   "source": [
    "import numpy as np\n",
    "import pandas as pd\n",
    "import os \n",
    "import sys\n",
    "sys.path.append('../')\n",
    "from utils import helpers"
   ]
  },
  {
   "cell_type": "code",
   "execution_count": 386,
   "id": "887332d1-09a5-4e21-895a-06e424da591a",
   "metadata": {
    "tags": []
   },
   "outputs": [],
   "source": [
    "df = helpers.load_data(96835502).reset_index()\n"
   ]
  },
  {
   "cell_type": "code",
   "execution_count": 387,
   "id": "d5cdbadd-4cd4-497f-b595-6151b4abae4c",
   "metadata": {
    "tags": []
   },
   "outputs": [
    {
     "data": {
      "text/html": [
       "<div>\n",
       "<style scoped>\n",
       "    .dataframe tbody tr th:only-of-type {\n",
       "        vertical-align: middle;\n",
       "    }\n",
       "\n",
       "    .dataframe tbody tr th {\n",
       "        vertical-align: top;\n",
       "    }\n",
       "\n",
       "    .dataframe thead th {\n",
       "        text-align: right;\n",
       "    }\n",
       "</style>\n",
       "<table border=\"1\" class=\"dataframe\">\n",
       "  <thead>\n",
       "    <tr style=\"text-align: right;\">\n",
       "      <th></th>\n",
       "      <th>index</th>\n",
       "      <th>sep=</th>\n",
       "      <th>Unnamed: 1</th>\n",
       "    </tr>\n",
       "  </thead>\n",
       "  <tbody>\n",
       "    <tr>\n",
       "      <th>0</th>\n",
       "      <td>=\"Cereal\"</td>\n",
       "      <td>=\"Chocolate Candy\"</td>\n",
       "      <td>=\"Coffee\"</td>\n",
       "    </tr>\n",
       "    <tr>\n",
       "      <th>1</th>\n",
       "      <td>578</td>\n",
       "      <td>311</td>\n",
       "      <td>261</td>\n",
       "    </tr>\n",
       "    <tr>\n",
       "      <th>2</th>\n",
       "      <td>320</td>\n",
       "      <td>106</td>\n",
       "      <td>185</td>\n",
       "    </tr>\n",
       "    <tr>\n",
       "      <th>3</th>\n",
       "      <td>264</td>\n",
       "      <td>109</td>\n",
       "      <td>302</td>\n",
       "    </tr>\n",
       "    <tr>\n",
       "      <th>4</th>\n",
       "      <td>249</td>\n",
       "      <td>125</td>\n",
       "      <td>689</td>\n",
       "    </tr>\n",
       "    <tr>\n",
       "      <th>5</th>\n",
       "      <td>237</td>\n",
       "      <td>173</td>\n",
       "      <td>NaN</td>\n",
       "    </tr>\n",
       "  </tbody>\n",
       "</table>\n",
       "</div>"
      ],
      "text/plain": [
       "       index                sep= Unnamed: 1\n",
       "0  =\"Cereal\"  =\"Chocolate Candy\"  =\"Coffee\"\n",
       "1        578                 311        261\n",
       "2        320                 106        185\n",
       "3        264                 109        302\n",
       "4        249                 125        689\n",
       "5        237                 173        NaN"
      ]
     },
     "execution_count": 387,
     "metadata": {},
     "output_type": "execute_result"
    }
   ],
   "source": [
    "df"
   ]
  },
  {
   "cell_type": "code",
   "execution_count": 388,
   "id": "4c1eff31-2b8d-4b74-bba3-6e4064146f2f",
   "metadata": {
    "tags": []
   },
   "outputs": [],
   "source": [
    "columns = list(map(lambda x: x[2:-1], df.loc[0]))\n",
    "data = df.loc[1:].copy()\n",
    "data.columns = columns"
   ]
  },
  {
   "cell_type": "code",
   "execution_count": 389,
   "id": "9b9a4aae-f71c-46d4-b0b3-53d4324e2fe9",
   "metadata": {
    "tags": []
   },
   "outputs": [],
   "source": [
    "values = data.T"
   ]
  },
  {
   "cell_type": "code",
   "execution_count": 390,
   "id": "7b30b49c-96fc-44a2-b76f-c386c10fc66c",
   "metadata": {
    "tags": []
   },
   "outputs": [
    {
     "data": {
      "text/html": [
       "<div>\n",
       "<style scoped>\n",
       "    .dataframe tbody tr th:only-of-type {\n",
       "        vertical-align: middle;\n",
       "    }\n",
       "\n",
       "    .dataframe tbody tr th {\n",
       "        vertical-align: top;\n",
       "    }\n",
       "\n",
       "    .dataframe thead th {\n",
       "        text-align: right;\n",
       "    }\n",
       "</style>\n",
       "<table border=\"1\" class=\"dataframe\">\n",
       "  <thead>\n",
       "    <tr style=\"text-align: right;\">\n",
       "      <th></th>\n",
       "      <th>1</th>\n",
       "      <th>2</th>\n",
       "      <th>3</th>\n",
       "      <th>4</th>\n",
       "      <th>5</th>\n",
       "    </tr>\n",
       "  </thead>\n",
       "  <tbody>\n",
       "    <tr>\n",
       "      <th>Cereal</th>\n",
       "      <td>578</td>\n",
       "      <td>320</td>\n",
       "      <td>264</td>\n",
       "      <td>249</td>\n",
       "      <td>237</td>\n",
       "    </tr>\n",
       "    <tr>\n",
       "      <th>Chocolate Candy</th>\n",
       "      <td>311</td>\n",
       "      <td>106</td>\n",
       "      <td>109</td>\n",
       "      <td>125</td>\n",
       "      <td>173</td>\n",
       "    </tr>\n",
       "    <tr>\n",
       "      <th>Coffee</th>\n",
       "      <td>261</td>\n",
       "      <td>185</td>\n",
       "      <td>302</td>\n",
       "      <td>689</td>\n",
       "      <td>NaN</td>\n",
       "    </tr>\n",
       "  </tbody>\n",
       "</table>\n",
       "</div>"
      ],
      "text/plain": [
       "                   1    2    3    4    5\n",
       "Cereal           578  320  264  249  237\n",
       "Chocolate Candy  311  106  109  125  173\n",
       "Coffee           261  185  302  689  NaN"
      ]
     },
     "execution_count": 390,
     "metadata": {},
     "output_type": "execute_result"
    }
   ],
   "source": [
    "values"
   ]
  },
  {
   "cell_type": "code",
   "execution_count": 391,
   "id": "9d8c2db5-5246-4601-96a7-52e4b15331dc",
   "metadata": {
    "tags": []
   },
   "outputs": [
    {
     "data": {
      "text/plain": [
       "329.6"
      ]
     },
     "execution_count": 391,
     "metadata": {},
     "output_type": "execute_result"
    }
   ],
   "source": [
    "values.iloc[0].astype(int).mean()"
   ]
  },
  {
   "cell_type": "code",
   "execution_count": 392,
   "id": "3088ab2f-f116-4d75-9ca8-94911386377c",
   "metadata": {
    "tags": []
   },
   "outputs": [],
   "source": [
    "ns = np.array([5, 5, 4])\n",
    "means = np.array([329.6, 164.8, 392.25])"
   ]
  },
  {
   "cell_type": "code",
   "execution_count": 393,
   "id": "478ed148-5af8-45c4-b54b-fb189c7d6c6c",
   "metadata": {
    "tags": []
   },
   "outputs": [],
   "source": [
    "GM = means.dot(ns) / ns.sum()"
   ]
  },
  {
   "cell_type": "code",
   "execution_count": 394,
   "id": "332593cb-b2b7-4ec9-bcf8-03f823d3bbd0",
   "metadata": {
    "tags": []
   },
   "outputs": [],
   "source": [
    "num_sum = 0\n",
    "for n, calc_val in zip(ns, means):\n",
    "    num_sum += (n * (calc_val.mean()-GM)) ** 2\n",
    "var_between = num_sum / (len(values) - 1)"
   ]
  },
  {
   "cell_type": "code",
   "execution_count": 395,
   "id": "c8fbd467-efda-4db2-90b8-a2ee55b9b877",
   "metadata": {
    "tags": []
   },
   "outputs": [
    {
     "data": {
      "text/plain": [
       "504829.6875"
      ]
     },
     "execution_count": 395,
     "metadata": {},
     "output_type": "execute_result"
    }
   ],
   "source": [
    "var_between"
   ]
  },
  {
   "cell_type": "code",
   "execution_count": 396,
   "id": "2985ebb9-d3d0-428d-bd0f-6b7f6fb2e81a",
   "metadata": {
    "tags": []
   },
   "outputs": [],
   "source": [
    "row_vars = np.array([20292.3, 7399.2, 60])"
   ]
  },
  {
   "cell_type": "code",
   "execution_count": 397,
   "id": "e8159db7-f53f-486e-b7c2-34919a4718d5",
   "metadata": {
    "tags": []
   },
   "outputs": [],
   "source": [
    "minus_ones = ns - 1\n",
    "var_within = minus_ones.dot(row_vars) / minus_ones.sum()"
   ]
  },
  {
   "cell_type": "code",
   "execution_count": 398,
   "id": "7bc28422-3750-4308-b3b1-46557e489044",
   "metadata": {
    "tags": []
   },
   "outputs": [
    {
     "data": {
      "text/plain": [
       "16566.153846153848"
      ]
     },
     "execution_count": 398,
     "metadata": {},
     "output_type": "execute_result"
    }
   ],
   "source": [
    "var_within"
   ]
  },
  {
   "cell_type": "code",
   "execution_count": 399,
   "id": "6f32034f-f06a-4cd6-a6b9-9319157a36d9",
   "metadata": {
    "tags": []
   },
   "outputs": [],
   "source": [
    "F = var_between / var_within"
   ]
  },
  {
   "cell_type": "code",
   "execution_count": 400,
   "id": "482f98b0-80ce-4ee6-89cc-1595f1908a00",
   "metadata": {
    "tags": []
   },
   "outputs": [
    {
     "data": {
      "text/plain": [
       "30.473560259565378"
      ]
     },
     "execution_count": 400,
     "metadata": {},
     "output_type": "execute_result"
    }
   ],
   "source": [
    "F"
   ]
  },
  {
   "cell_type": "code",
   "execution_count": null,
   "id": "3a1ef962-a2e9-4b31-ad04-99c8e9f22847",
   "metadata": {},
   "outputs": [],
   "source": []
  },
  {
   "cell_type": "code",
   "execution_count": null,
   "id": "0ab1c041-7da4-401b-83ae-214d3ce1a1a9",
   "metadata": {},
   "outputs": [],
   "source": []
  },
  {
   "cell_type": "code",
   "execution_count": 271,
   "id": "102b3ed7-23b0-473f-b7d9-12e51bd1897b",
   "metadata": {
    "tags": []
   },
   "outputs": [],
   "source": [
    "def x_bar_and_variances(df) -> np.array:\n",
    "    results = []\n",
    "    for col in df.columns:\n",
    "        try:\n",
    "            vals = df[col].astype('int64').values\n",
    "        except ValueError:\n",
    "            vals = df[col].dropna().astype('int64').values\n",
    "        x_bar = vals.mean()\n",
    "        n = len(vals)\n",
    "        sum_squares = (vals**2).sum()\n",
    "        squared_sum = vals.sum() ** 2\n",
    "        var = ((n*sum_squares) - squared_sum)/(n*(n-1))\n",
    "        results.append(np.array([x_bar, var, ]))\n",
    "    return np.array(results)"
   ]
  },
  {
   "cell_type": "code",
   "execution_count": 272,
   "id": "919adbc5-9f57-417f-b55b-91d23fabd8cb",
   "metadata": {
    "tags": []
   },
   "outputs": [
    {
     "ename": "AttributeError",
     "evalue": "'int' object has no attribute 'dot'",
     "output_type": "error",
     "traceback": [
      "\u001b[1;31m---------------------------------------------------------------------------\u001b[0m",
      "\u001b[1;31mAttributeError\u001b[0m                            Traceback (most recent call last)",
      "Cell \u001b[1;32mIn[272], line 1\u001b[0m\n\u001b[1;32m----> 1\u001b[0m x_var \u001b[38;5;241m=\u001b[39m x_bar_and_variances(data)\n",
      "Cell \u001b[1;32mIn[271], line 12\u001b[0m, in \u001b[0;36mx_bar_and_variances\u001b[1;34m(df)\u001b[0m\n\u001b[0;32m     10\u001b[0m     sum_squares \u001b[38;5;241m=\u001b[39m (vals\u001b[38;5;241m*\u001b[39m\u001b[38;5;241m*\u001b[39m\u001b[38;5;241m2\u001b[39m)\u001b[38;5;241m.\u001b[39msum()\n\u001b[0;32m     11\u001b[0m     squared_sum \u001b[38;5;241m=\u001b[39m vals\u001b[38;5;241m.\u001b[39msum() \u001b[38;5;241m*\u001b[39m\u001b[38;5;241m*\u001b[39m \u001b[38;5;241m2\u001b[39m\n\u001b[1;32m---> 12\u001b[0m     var \u001b[38;5;241m=\u001b[39m n\u001b[38;5;241m.\u001b[39mdot(sum_squares \u001b[38;5;241m-\u001b[39m squared_sum)\u001b[38;5;241m/\u001b[39m(n\u001b[38;5;241m*\u001b[39m(n\u001b[38;5;241m-\u001b[39m\u001b[38;5;241m1\u001b[39m))\n\u001b[0;32m     13\u001b[0m     results\u001b[38;5;241m.\u001b[39mappend(np\u001b[38;5;241m.\u001b[39marray([x_bar, var, n]))\n\u001b[0;32m     14\u001b[0m \u001b[38;5;28;01mreturn\u001b[39;00m np\u001b[38;5;241m.\u001b[39marray(results)\n",
      "\u001b[1;31mAttributeError\u001b[0m: 'int' object has no attribute 'dot'"
     ]
    }
   ],
   "source": [
    "x_var = x_bar_and_variances(data)"
   ]
  },
  {
   "cell_type": "code",
   "execution_count": 273,
   "id": "5ded2179-422f-42a1-b456-7fc629c16770",
   "metadata": {
    "tags": []
   },
   "outputs": [],
   "source": [
    "GM = x_var.T[0].mean()"
   ]
  },
  {
   "cell_type": "code",
   "execution_count": 262,
   "id": "89deea13-fa12-4b35-9128-5b1f62a689af",
   "metadata": {
    "tags": []
   },
   "outputs": [],
   "source": [
    "var_between = (((x_var.T[0] - GM)**2) * x_var.T[-1]).sum() / (x_var.shape[-1] - 1)"
   ]
  },
  {
   "cell_type": "code",
   "execution_count": 263,
   "id": "81d17b56-7f38-47ca-9a72-0518608a2a60",
   "metadata": {
    "tags": []
   },
   "outputs": [
    {
     "data": {
      "text/plain": [
       "2459061.53125"
      ]
     },
     "execution_count": 263,
     "metadata": {},
     "output_type": "execute_result"
    }
   ],
   "source": [
    "var_between"
   ]
  },
  {
   "cell_type": "code",
   "execution_count": 264,
   "id": "647c8530-9473-4e52-88cb-d67c66d45246",
   "metadata": {
    "tags": []
   },
   "outputs": [],
   "source": [
    "n_minus_1 = x_var.T[-1] - 1\n",
    "var_within = (n_minus_1 * x_var.T[1]).sum() / n_minus_1.sum() "
   ]
  },
  {
   "cell_type": "code",
   "execution_count": 265,
   "id": "29b349fd-e912-4068-9574-b6a2b419488a",
   "metadata": {
    "tags": []
   },
   "outputs": [
    {
     "data": {
      "text/plain": [
       "7190377.475"
      ]
     },
     "execution_count": 265,
     "metadata": {},
     "output_type": "execute_result"
    }
   ],
   "source": [
    "var_within"
   ]
  },
  {
   "cell_type": "code",
   "execution_count": 266,
   "id": "4d6b8df5-e3cb-4776-8bdc-eedea967649f",
   "metadata": {
    "tags": []
   },
   "outputs": [],
   "source": [
    "F_test = var_between/var_within"
   ]
  },
  {
   "cell_type": "code",
   "execution_count": 267,
   "id": "08814aeb-a153-4110-95bd-588fa22c1062",
   "metadata": {
    "tags": []
   },
   "outputs": [
    {
     "data": {
      "text/plain": [
       "0.3419933848813688"
      ]
     },
     "execution_count": 267,
     "metadata": {},
     "output_type": "execute_result"
    }
   ],
   "source": [
    "F_test"
   ]
  },
  {
   "cell_type": "code",
   "execution_count": null,
   "id": "a9ce5ed4-5aa7-4b63-ba46-f7149aac6cc2",
   "metadata": {
    "tags": []
   },
   "outputs": [],
   "source": []
  },
  {
   "cell_type": "code",
   "execution_count": 173,
   "id": "b2424e75-d131-4cab-a999-ab2f409dad0f",
   "metadata": {
    "tags": []
   },
   "outputs": [
    {
     "data": {
      "text/plain": [
       "118518835"
      ]
     },
     "execution_count": 173,
     "metadata": {},
     "output_type": "execute_result"
    }
   ],
   "source": [
    "(data.iloc[:,0].astype(int).values ** 2).sum()"
   ]
  },
  {
   "cell_type": "code",
   "execution_count": 174,
   "id": "5070890c-da70-4840-a0b2-5e235ae57252",
   "metadata": {
    "tags": []
   },
   "outputs": [],
   "source": [
    "f_crit = 5.26"
   ]
  },
  {
   "cell_type": "code",
   "execution_count": 175,
   "id": "9ea0adb9-77aa-4fd8-983b-07357ca5906d",
   "metadata": {
    "tags": []
   },
   "outputs": [
    {
     "data": {
      "text/plain": [
       "20"
      ]
     },
     "execution_count": 175,
     "metadata": {},
     "output_type": "execute_result"
    }
   ],
   "source": [
    "data.count().sum()"
   ]
  },
  {
   "cell_type": "code",
   "execution_count": null,
   "id": "21f899e3-af84-493e-8590-e7cad2adf762",
   "metadata": {},
   "outputs": [],
   "source": []
  },
  {
   "cell_type": "code",
   "execution_count": 382,
   "id": "3dee5d65-23e7-458d-9fa7-b9550e7a28ce",
   "metadata": {
    "tags": []
   },
   "outputs": [],
   "source": [
    "x_bars = np.array([329.6, 164.8, 359.25])\n",
    "x_vars =np.array([20292.3, 7399.2, 50676.25])\n",
    "x_ns = np.array([5, 5, 4])"
   ]
  },
  {
   "cell_type": "code",
   "execution_count": 383,
   "id": "6dd71c23-1d95-43c0-85f2-b52b42d32276",
   "metadata": {
    "tags": []
   },
   "outputs": [],
   "source": [
    "data  = np.array([x_bars, x_vars, x_ns])"
   ]
  },
  {
   "cell_type": "code",
   "execution_count": 384,
   "id": "2316d72b-19cd-4406-b480-51c064b6f2c0",
   "metadata": {
    "tags": []
   },
   "outputs": [],
   "source": [
    "df_numer = len(x_bars) - 1\n",
    "df_denom = x_ns.sum() - len(x_bars)"
   ]
  },
  {
   "cell_type": "code",
   "execution_count": 385,
   "id": "5f458ce8-416e-4d7d-b9f8-605ce5cc3ca6",
   "metadata": {
    "tags": []
   },
   "outputs": [
    {
     "data": {
      "text/plain": [
       "(2, 11)"
      ]
     },
     "execution_count": 385,
     "metadata": {},
     "output_type": "execute_result"
    }
   ],
   "source": [
    "df_numer, df_denom"
   ]
  },
  {
   "cell_type": "code",
   "execution_count": 369,
   "id": "3dfefd79-6a9b-452f-a218-702fd95d10e0",
   "metadata": {
    "tags": []
   },
   "outputs": [],
   "source": [
    "critical_value = 7.21\n",
    "F_prime = (len(x_bars) - 1)*critical_value"
   ]
  },
  {
   "cell_type": "code",
   "execution_count": 370,
   "id": "b2432457-d403-4fd0-89c1-ffd4587eda9f",
   "metadata": {
    "tags": []
   },
   "outputs": [
    {
     "data": {
      "text/plain": [
       "5.52"
      ]
     },
     "execution_count": 370,
     "metadata": {},
     "output_type": "execute_result"
    }
   ],
   "source": [
    "F_prime"
   ]
  },
  {
   "cell_type": "code",
   "execution_count": 371,
   "id": "fd5da629-531c-494f-bf14-745b67771474",
   "metadata": {
    "tags": []
   },
   "outputs": [],
   "source": [
    "n_minus_one = x_ns - 1\n",
    "var_between = n_minus_one.dot(x_vars)/ n_minus_one.sum()\n"
   ]
  },
  {
   "cell_type": "code",
   "execution_count": 372,
   "id": "136596b7-0a4f-47a2-b7fc-3cf0480f084d",
   "metadata": {
    "tags": []
   },
   "outputs": [
    {
     "data": {
      "text/plain": [
       "16566.153846153848"
      ]
     },
     "execution_count": 372,
     "metadata": {},
     "output_type": "execute_result"
    }
   ],
   "source": [
    "var_between"
   ]
  },
  {
   "cell_type": "code",
   "execution_count": 373,
   "id": "74282916-26b6-4fed-8fdf-b17bfe1c6780",
   "metadata": {
    "tags": []
   },
   "outputs": [],
   "source": [
    "def run_f_test(data: np.array,\n",
    "               x1=0,\n",
    "               x2=1,\n",
    "               var_between=var_between,\n",
    "               F_prime=F_prime) -> tuple:\n",
    "    \"\"\"\n",
    "    \"\"\"\n",
    "    group1 = data.T[x1]\n",
    "    group2 = data.T[x2]\n",
    "    F_test = (group1[0]-group2[0])**2 / (var_between*((1/group1[-1]) + (1/group2[-1])))\n",
    "    result = F_test > F_prime\n",
    "    return result, round(F_test, 2)"
   ]
  },
  {
   "cell_type": "code",
   "execution_count": 374,
   "id": "d14b3d43-5c09-4854-ad66-20e775694903",
   "metadata": {
    "tags": []
   },
   "outputs": [
    {
     "data": {
      "text/plain": [
       "array([[  970, 23880,     6],\n",
       "       [  764, 18330,     5],\n",
       "       [  740,  5660,     5]])"
      ]
     },
     "execution_count": 374,
     "metadata": {},
     "output_type": "execute_result"
    }
   ],
   "source": [
    "data.T"
   ]
  },
  {
   "cell_type": "code",
   "execution_count": 375,
   "id": "f79952f5-7b32-4d58-a594-58466cba17b8",
   "metadata": {
    "tags": []
   },
   "outputs": [
    {
     "data": {
      "text/plain": [
       "(True, 6.99)"
      ]
     },
     "execution_count": 375,
     "metadata": {},
     "output_type": "execute_result"
    }
   ],
   "source": [
    "run_f_test(data)"
   ]
  },
  {
   "cell_type": "code",
   "execution_count": 376,
   "id": "534172cf-c801-43d9-b06a-ff1f0e81cfd6",
   "metadata": {
    "tags": []
   },
   "outputs": [
    {
     "data": {
      "text/plain": [
       "(False, 0.09)"
      ]
     },
     "execution_count": 376,
     "metadata": {},
     "output_type": "execute_result"
    }
   ],
   "source": [
    "run_f_test(data, 1, 2)"
   ]
  },
  {
   "cell_type": "code",
   "execution_count": 377,
   "id": "2dce6e7c-a096-41b3-a0e8-951c18bca6ec",
   "metadata": {
    "tags": []
   },
   "outputs": [
    {
     "data": {
      "text/plain": [
       "(True, 8.71)"
      ]
     },
     "execution_count": 377,
     "metadata": {},
     "output_type": "execute_result"
    }
   ],
   "source": [
    "run_f_test(data, 0, 2)"
   ]
  },
  {
   "cell_type": "code",
   "execution_count": null,
   "id": "857a7a64-eb76-482c-a68f-ea429debf7dd",
   "metadata": {},
   "outputs": [],
   "source": [
    "def var_between(x_vars):\n",
    "    \"\"\"\n",
    "    \"\"\"\n",
    "    gm = x_bars.sum()/len(x_vars)"
   ]
  },
  {
   "cell_type": "code",
   "execution_count": null,
   "id": "dc1165bb-ccf1-4269-8c5c-7bea4fc2070c",
   "metadata": {},
   "outputs": [],
   "source": []
  },
  {
   "cell_type": "code",
   "execution_count": null,
   "id": "defe617b-4e0f-47e1-a4a1-81396912826e",
   "metadata": {},
   "outputs": [],
   "source": []
  },
  {
   "cell_type": "code",
   "execution_count": null,
   "id": "2ee11867-42ab-4cdb-9e6e-d9ca8c16d6b3",
   "metadata": {},
   "outputs": [],
   "source": []
  },
  {
   "cell_type": "code",
   "execution_count": null,
   "id": "5ed2838f-8e6a-4692-a265-0241cfa7114a",
   "metadata": {},
   "outputs": [],
   "source": []
  },
  {
   "cell_type": "code",
   "execution_count": null,
   "id": "2b804e4d-fb12-4be5-a5cf-f93622ab1f32",
   "metadata": {},
   "outputs": [],
   "source": []
  },
  {
   "cell_type": "code",
   "execution_count": null,
   "id": "dcf4a9bb-87a3-4f60-8973-1c63e96a2ca0",
   "metadata": {},
   "outputs": [],
   "source": []
  }
 ],
 "metadata": {
  "kernelspec": {
   "display_name": "ocr_env",
   "language": "python",
   "name": "ocr_env"
  },
  "language_info": {
   "codemirror_mode": {
    "name": "ipython",
    "version": 3
   },
   "file_extension": ".py",
   "mimetype": "text/x-python",
   "name": "python",
   "nbconvert_exporter": "python",
   "pygments_lexer": "ipython3",
   "version": "3.11.3"
  }
 },
 "nbformat": 4,
 "nbformat_minor": 5
}
