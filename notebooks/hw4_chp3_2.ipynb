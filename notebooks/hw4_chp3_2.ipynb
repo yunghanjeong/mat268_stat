{
 "cells": [
  {
   "cell_type": "markdown",
   "id": "8b04fde1-8cf6-4f81-badd-47ef53bcc775",
   "metadata": {},
   "source": [
    "# Homework 3 Chapter 3.2"
   ]
  },
  {
   "cell_type": "code",
   "execution_count": 1,
   "id": "df24f06a-bad9-4e37-9a7f-80114a62eb69",
   "metadata": {
    "tags": []
   },
   "outputs": [],
   "source": [
    "import os\n",
    "import sys\n",
    "import numpy as np\n",
    "import pandas as pd\n",
    "sys.path.append('..//utils')\n",
    "import helpers as hp"
   ]
  },
  {
   "cell_type": "code",
   "execution_count": 6,
   "id": "eedec8fe-211e-4205-b417-961759306a05",
   "metadata": {
    "tags": []
   },
   "outputs": [],
   "source": [
    "csv_file = 2098419505\n",
    "df = hp.load_data(csv_file)\n",
    "test_values = df.iloc[:,0]\n",
    "value_range = round(test_values.max() - test_values.min(), 2)"
   ]
  },
  {
   "cell_type": "code",
   "execution_count": null,
   "id": "41a827e1-d333-4dff-9cc6-9b968a149727",
   "metadata": {},
   "outputs": [],
   "source": [
    "1903531089"
   ]
  },
  {
   "cell_type": "code",
   "execution_count": 12,
   "id": "cbdc628e-0eec-483b-b166-f81f11990f22",
   "metadata": {
    "tags": []
   },
   "outputs": [
    {
     "data": {
      "text/plain": [
       "691.8835897435896"
      ]
     },
     "execution_count": 12,
     "metadata": {},
     "output_type": "execute_result"
    }
   ],
   "source": [
    "(test_values.std() ** 2) /  "
   ]
  },
  {
   "cell_type": "code",
   "execution_count": 9,
   "id": "8df294b6-e341-4649-a3f5-478c87d12ec2",
   "metadata": {
    "tags": []
   },
   "outputs": [
    {
     "data": {
      "text/plain": [
       "<bound method NDFrame._add_numeric_operations.<locals>.std of count     13.000000\n",
       "mean      46.823077\n",
       "std       26.303680\n",
       "min       20.600000\n",
       "25%       24.900000\n",
       "50%       40.800000\n",
       "75%       60.600000\n",
       "max      110.300000\n",
       "Name: sep=, dtype: float64>"
      ]
     },
     "execution_count": 9,
     "metadata": {},
     "output_type": "execute_result"
    }
   ],
   "source": [
    "test_values.describe().std"
   ]
  },
  {
   "cell_type": "code",
   "execution_count": 13,
   "id": "bb93d1d2-bc19-416f-8d4e-e18b6b680044",
   "metadata": {
    "tags": []
   },
   "outputs": [],
   "source": [
    "csv_file = 1903531089\n",
    "df = hp.load_data(csv_file)\n",
    "test_values = df.iloc[:,0]\n",
    "value_range = round(test_values.max() - test_values.min(), 2)"
   ]
  },
  {
   "cell_type": "code",
   "execution_count": 24,
   "id": "caf9cf3b-813a-44f6-8d66-6bcbb4db396e",
   "metadata": {
    "tags": []
   },
   "outputs": [],
   "source": [
    "def short_std_formula(values):\n",
    "    n = len(values)\n",
    "    sqsum = (values**2).sum()\n",
    "    sumsq = (values.sum()) ** 2\n",
    "    std = ((n*sqsum - sumsq) / (n*(n-1))) ** 0.5\n",
    "    return std"
   ]
  },
  {
   "cell_type": "code",
   "execution_count": 25,
   "id": "78d3bccd-02aa-4a95-9bb1-ff32f31b8713",
   "metadata": {
    "tags": []
   },
   "outputs": [],
   "source": [
    "short_std = short_std_formula(test_values.dropna().values)"
   ]
  },
  {
   "cell_type": "code",
   "execution_count": 26,
   "id": "07e15fad-4287-4014-a93f-e6dbef1153e8",
   "metadata": {
    "tags": []
   },
   "outputs": [
    {
     "data": {
      "text/plain": [
       "13.538914203221683"
      ]
     },
     "execution_count": 26,
     "metadata": {},
     "output_type": "execute_result"
    }
   ],
   "source": [
    "short_std"
   ]
  },
  {
   "cell_type": "code",
   "execution_count": 27,
   "id": "f1c6af70-5c66-4d53-904c-44227eb333c6",
   "metadata": {
    "tags": []
   },
   "outputs": [
    {
     "data": {
      "text/plain": [
       "183.3021978021978"
      ]
     },
     "execution_count": 27,
     "metadata": {},
     "output_type": "execute_result"
    }
   ],
   "source": [
    "short_std ** 2"
   ]
  },
  {
   "cell_type": "code",
   "execution_count": 14,
   "id": "c0a3fe28-3006-4ee9-96d2-f985e8a1e269",
   "metadata": {
    "tags": []
   },
   "outputs": [
    {
     "data": {
      "text/plain": [
       "48.0"
      ]
     },
     "execution_count": 14,
     "metadata": {},
     "output_type": "execute_result"
    }
   ],
   "source": [
    "value_range"
   ]
  },
  {
   "cell_type": "code",
   "execution_count": 28,
   "id": "4920f19a-60d1-4a05-82a8-a210f63d4c55",
   "metadata": {
    "tags": []
   },
   "outputs": [],
   "source": [
    "csv_file = 853169596\n",
    "df = hp.load_data(csv_file)\n",
    "test_values = df.iloc[:,0]\n",
    "value_range = round(test_values.max() - test_values.min(), 2)"
   ]
  },
  {
   "cell_type": "code",
   "execution_count": 34,
   "id": "f0690149-99a8-4124-9a27-4009814694f6",
   "metadata": {
    "tags": []
   },
   "outputs": [
    {
     "data": {
      "text/plain": [
       "10.419387523440923"
      ]
     },
     "execution_count": 34,
     "metadata": {},
     "output_type": "execute_result"
    }
   ],
   "source": [
    "test_values.std()"
   ]
  },
  {
   "cell_type": "code",
   "execution_count": 42,
   "id": "d070840d-78ff-460b-b33e-a8fe53a7a35d",
   "metadata": {
    "tags": []
   },
   "outputs": [
    {
     "name": "stdout",
     "output_type": "stream",
     "text": [
      "Range  2704.0\n",
      "Variance  703841.2810457518\n",
      "Std Dev  838.9524903388461\n"
     ]
    }
   ],
   "source": [
    "csv_file = 1269190911\n",
    "df = hp.load_data(csv_file)\n",
    "test_values = df.iloc[:,0]\n",
    "value_range = round(test_values.max() - test_values.min(), 2)\n",
    "print('Range ', value_range)\n",
    "print('Variance ', test_values.std() ** 2)\n",
    "print('Std Dev ', test_values.std())"
   ]
  },
  {
   "cell_type": "code",
   "execution_count": null,
   "id": "0eaf13b5-eacf-4cef-a07f-0ad4b8fb4264",
   "metadata": {},
   "outputs": [],
   "source": []
  },
  {
   "cell_type": "code",
   "execution_count": 53,
   "id": "200d0fa1-dcd3-463f-a041-6931ef707746",
   "metadata": {
    "tags": []
   },
   "outputs": [
    {
     "name": "stdout",
     "output_type": "stream",
     "text": [
      "Range  226.0\n",
      "Variance  3577.6857142857148\n",
      "Std Dev  59.81375857012929\n"
     ]
    }
   ],
   "source": [
    "csv_file = 1655873138\n",
    "df = hp.load_data(csv_file)\n",
    "test_values = pd.Series(df.reset_index().values.flatten()).dropna()\n",
    "value_range = round(test_values.max() - test_values.min(), 2)\n",
    "print('Range ', value_range)\n",
    "print('Variance ', test_values.std() ** 2)\n",
    "print('Std Dev ', test_values.std())"
   ]
  },
  {
   "cell_type": "markdown",
   "id": "d2134944-b0e3-4651-bacd-ff12aa60e6d5",
   "metadata": {},
   "source": [
    "## Using Class limits and frequency to calculate things"
   ]
  },
  {
   "cell_type": "code",
   "execution_count": 150,
   "id": "50184385-d301-4ce1-94ef-afe8780ff58f",
   "metadata": {
    "tags": []
   },
   "outputs": [],
   "source": [
    "csv_file = 1239335366\n",
    "df = hp.load_data(csv_file)\n",
    "columns = df.iloc[0].values\n",
    "columns = [col[2:-1] for col in columns]\n",
    "df = df.iloc[1:, :]\n",
    "df.columns = columns\n",
    "freq_split = list(map(lambda x: x.split('-'), df[columns[0]].values))\n",
    "freq_split = list(map(lambda x: [int(x[0][2:]), int(x[1][:2])], freq_split))\n",
    "freq_split = np.array(freq_split)\n",
    "df[['lower_limit', 'upper_limit']] = freq_split\n",
    "df.Frequency = df.Frequency.astype(float)"
   ]
  },
  {
   "cell_type": "code",
   "execution_count": 151,
   "id": "923b0ab4-adf2-4b72-acb0-11f8ee2cb290",
   "metadata": {
    "tags": []
   },
   "outputs": [
    {
     "data": {
      "text/html": [
       "<div>\n",
       "<style scoped>\n",
       "    .dataframe tbody tr th:only-of-type {\n",
       "        vertical-align: middle;\n",
       "    }\n",
       "\n",
       "    .dataframe tbody tr th {\n",
       "        vertical-align: top;\n",
       "    }\n",
       "\n",
       "    .dataframe thead th {\n",
       "        text-align: right;\n",
       "    }\n",
       "</style>\n",
       "<table border=\"1\" class=\"dataframe\">\n",
       "  <thead>\n",
       "    <tr style=\"text-align: right;\">\n",
       "      <th></th>\n",
       "      <th>Class limits</th>\n",
       "      <th>Frequency</th>\n",
       "      <th>lower_limit</th>\n",
       "      <th>upper_limit</th>\n",
       "    </tr>\n",
       "  </thead>\n",
       "  <tbody>\n",
       "    <tr>\n",
       "      <th>1</th>\n",
       "      <td>=\"9-11\"</td>\n",
       "      <td>1.0</td>\n",
       "      <td>9</td>\n",
       "      <td>11</td>\n",
       "    </tr>\n",
       "    <tr>\n",
       "      <th>2</th>\n",
       "      <td>=\"12-14\"</td>\n",
       "      <td>17.0</td>\n",
       "      <td>12</td>\n",
       "      <td>14</td>\n",
       "    </tr>\n",
       "    <tr>\n",
       "      <th>3</th>\n",
       "      <td>=\"15-17\"</td>\n",
       "      <td>13.0</td>\n",
       "      <td>15</td>\n",
       "      <td>17</td>\n",
       "    </tr>\n",
       "    <tr>\n",
       "      <th>4</th>\n",
       "      <td>=\"18-20\"</td>\n",
       "      <td>8.0</td>\n",
       "      <td>18</td>\n",
       "      <td>20</td>\n",
       "    </tr>\n",
       "    <tr>\n",
       "      <th>5</th>\n",
       "      <td>=\"21-23\"</td>\n",
       "      <td>2.0</td>\n",
       "      <td>21</td>\n",
       "      <td>23</td>\n",
       "    </tr>\n",
       "  </tbody>\n",
       "</table>\n",
       "</div>"
      ],
      "text/plain": [
       "  Class limits  Frequency  lower_limit  upper_limit\n",
       "1      =\"9-11\"        1.0            9           11\n",
       "2     =\"12-14\"       17.0           12           14\n",
       "3     =\"15-17\"       13.0           15           17\n",
       "4     =\"18-20\"        8.0           18           20\n",
       "5     =\"21-23\"        2.0           21           23"
      ]
     },
     "execution_count": 151,
     "metadata": {},
     "output_type": "execute_result"
    }
   ],
   "source": [
    "df.head()"
   ]
  },
  {
   "cell_type": "code",
   "execution_count": 152,
   "id": "7d7cb624-68af-4694-a648-5b78632aa62a",
   "metadata": {
    "tags": []
   },
   "outputs": [],
   "source": [
    "n = df.Frequency.sum()\n",
    "mids = (df.upper_limit + df.lower_limit) / 2\n",
    "mean = (mids * df.Frequency).sum() / n\n",
    "deviation1 = ((mids - mean) ** 2)\n",
    "deviation2 = deviation1 * df.Frequency\n",
    "\n",
    "std = np.sqrt(dev_sqsum.sum()/(n-1))\n",
    "var = std ** 2"
   ]
  },
  {
   "cell_type": "code",
   "execution_count": 153,
   "id": "b2d006d5-fa5e-45e3-8ae1-86216233553b",
   "metadata": {
    "tags": []
   },
   "outputs": [
    {
     "data": {
      "text/plain": [
       "1    32.653061\n",
       "2     7.367347\n",
       "3     0.081633\n",
       "4    10.795918\n",
       "5    39.510204\n",
       "6    86.224490\n",
       "dtype: float64"
      ]
     },
     "execution_count": 153,
     "metadata": {},
     "output_type": "execute_result"
    }
   ],
   "source": [
    "deviation1"
   ]
  },
  {
   "cell_type": "code",
   "execution_count": 154,
   "id": "493c1aea-870d-4140-a6d1-3ecb097705b7",
   "metadata": {
    "tags": []
   },
   "outputs": [
    {
     "data": {
      "text/plain": [
       "1     32.653061\n",
       "2    125.244898\n",
       "3      1.061224\n",
       "4     86.367347\n",
       "5     79.020408\n",
       "6     86.224490\n",
       "dtype: float64"
      ]
     },
     "execution_count": 154,
     "metadata": {},
     "output_type": "execute_result"
    }
   ],
   "source": [
    "deviation2"
   ]
  },
  {
   "cell_type": "code",
   "execution_count": 155,
   "id": "ce6d442d-b648-490f-8366-d27e5d4da4a1",
   "metadata": {
    "tags": []
   },
   "outputs": [
    {
     "data": {
      "text/plain": [
       "1     1.0\n",
       "2    17.0\n",
       "3    13.0\n",
       "4     8.0\n",
       "5     2.0\n",
       "6     1.0\n",
       "Name: Frequency, dtype: float64"
      ]
     },
     "execution_count": 155,
     "metadata": {},
     "output_type": "execute_result"
    }
   ],
   "source": [
    "df.Frequency"
   ]
  },
  {
   "cell_type": "code",
   "execution_count": 156,
   "id": "c3fc8fb7-b057-44f8-ba80-f7ccc17b0aed",
   "metadata": {
    "tags": []
   },
   "outputs": [
    {
     "data": {
      "text/plain": [
       "42.0"
      ]
     },
     "execution_count": 156,
     "metadata": {},
     "output_type": "execute_result"
    }
   ],
   "source": [
    "n"
   ]
  },
  {
   "cell_type": "code",
   "execution_count": 157,
   "id": "7c82275c-3ba7-4a99-8e80-78f1a49b7274",
   "metadata": {
    "tags": []
   },
   "outputs": [
    {
     "data": {
      "text/plain": [
       "15.714285714285714"
      ]
     },
     "execution_count": 157,
     "metadata": {},
     "output_type": "execute_result"
    }
   ],
   "source": [
    "mean"
   ]
  },
  {
   "cell_type": "code",
   "execution_count": 158,
   "id": "958f5c69-ba84-4a29-b9f0-0a9f5f1a8219",
   "metadata": {
    "tags": []
   },
   "outputs": [
    {
     "data": {
      "text/plain": [
       "8.710543550190827"
      ]
     },
     "execution_count": 158,
     "metadata": {},
     "output_type": "execute_result"
    }
   ],
   "source": [
    "std"
   ]
  },
  {
   "cell_type": "code",
   "execution_count": 133,
   "id": "b9305744-d524-4055-a816-2e443d90f296",
   "metadata": {
    "tags": []
   },
   "outputs": [
    {
     "data": {
      "text/plain": [
       "75.87356893977102"
      ]
     },
     "execution_count": 133,
     "metadata": {},
     "output_type": "execute_result"
    }
   ],
   "source": [
    "var"
   ]
  },
  {
   "cell_type": "code",
   "execution_count": null,
   "id": "eb64da6c-5447-4a58-baff-33713e50bb94",
   "metadata": {},
   "outputs": [],
   "source": []
  }
 ],
 "metadata": {
  "kernelspec": {
   "display_name": "ocr_env",
   "language": "python",
   "name": "ocr_env"
  },
  "language_info": {
   "codemirror_mode": {
    "name": "ipython",
    "version": 3
   },
   "file_extension": ".py",
   "mimetype": "text/x-python",
   "name": "python",
   "nbconvert_exporter": "python",
   "pygments_lexer": "ipython3",
   "version": "3.11.3"
  }
 },
 "nbformat": 4,
 "nbformat_minor": 5
}
