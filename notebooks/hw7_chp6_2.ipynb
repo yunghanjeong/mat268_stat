{
 "cells": [
  {
   "cell_type": "code",
   "execution_count": 29,
   "id": "9a15f95c-593a-49e6-aa7d-b733e3b77177",
   "metadata": {
    "tags": []
   },
   "outputs": [],
   "source": [
    "import numpy as np\n",
    "import pandas as pd\n",
    "import os\n",
    "import sys\n",
    "from collections.abc import Sequence"
   ]
  },
  {
   "cell_type": "code",
   "execution_count": 135,
   "id": "337b2ddf-f207-4e0a-a84a-0fb890c4ee6d",
   "metadata": {
    "tags": []
   },
   "outputs": [],
   "source": [
    "class z_table(Sequence):\n",
    "    def __init__(self, fp='reference\\\\z_score.csv', rounding=2):\n",
    "        self.table = pd.read_csv(fp)\n",
    "        self.rounding = 2\n",
    "    def __getitem__(self, z_score: float):\n",
    "        flip = z_score < 0\n",
    "        round_z = round(abs(z_score), self.rounding)\n",
    "        split_score = str(round_z).split('.')\n",
    "        dec_places = split_score[-1]\n",
    "        col = '0.0'+dec_places[-1] if len(dec_places) == 2 else '0'\n",
    "        idx = float('.'.join([split_score[0], dec_places[0]]))\n",
    "        prob = self.table[self.table.Z == idx][col].values[0]\n",
    "        if flip:\n",
    "            prob = 1 - prob \n",
    "        return round(prob, 4)\n",
    "    def __len__(self):\n",
    "        return len(self.table)\n",
    "    \n",
    "    def z_score(self, val, mean, std):\n",
    "        return (val - mean)/std\n",
    "    \n",
    "    def greater(self, val, mean, std):\n",
    "        return round(1 - self[self.z_score(val, mean, std)], 4)\n",
    "    \n",
    "    def less(self, val, mean, std):\n",
    "        return self[self.z_score(val, mean, std)]\n",
    "    \n",
    "    def bound(self, left, right, mean, std):\n",
    "        left_bound = self[self.z_score(left, mean, std)]\n",
    "        right_bound = self[self.z_score(right, mean, std)]\n",
    "        return round(right_bound - left_bound, 4)"
   ]
  },
  {
   "cell_type": "code",
   "execution_count": 136,
   "id": "8609f301-6c30-4efd-abc1-6e25d340b56f",
   "metadata": {
    "tags": []
   },
   "outputs": [],
   "source": [
    "z_score_table = 'reference\\\\z_score.csv'\n",
    "z_df = pd.read_csv(z_score_table)\n",
    "z_t = z_table()"
   ]
  },
  {
   "cell_type": "code",
   "execution_count": 137,
   "id": "35d703a9-9790-4668-89ab-b7b040e81ea3",
   "metadata": {
    "tags": []
   },
   "outputs": [
    {
     "data": {
      "text/plain": [
       "0.4013"
      ]
     },
     "execution_count": 137,
     "metadata": {},
     "output_type": "execute_result"
    }
   ],
   "source": [
    "z_t[-0.25]"
   ]
  },
  {
   "cell_type": "code",
   "execution_count": 138,
   "id": "a363bc03-cea5-4741-b736-4c5d25a82715",
   "metadata": {
    "tags": []
   },
   "outputs": [
    {
     "data": {
      "text/plain": [
       "0.6287"
      ]
     },
     "execution_count": 138,
     "metadata": {},
     "output_type": "execute_result"
    }
   ],
   "source": [
    "z_t[z_t.z_score(1280, 982, 180)] - z_t[z_t.z_score(900, 982, 180)]"
   ]
  },
  {
   "cell_type": "code",
   "execution_count": 139,
   "id": "608bba3a-b46f-4e50-8b9b-3a4e54b1e323",
   "metadata": {
    "tags": []
   },
   "outputs": [
    {
     "data": {
      "text/plain": [
       "0.6287"
      ]
     },
     "execution_count": 139,
     "metadata": {},
     "output_type": "execute_result"
    }
   ],
   "source": [
    "z_t.bound(900, 1280, 982, 180)"
   ]
  },
  {
   "cell_type": "code",
   "execution_count": 140,
   "id": "4567ff02-47d7-4f4b-9ebd-1954ff087e72",
   "metadata": {
    "tags": []
   },
   "outputs": [
    {
     "data": {
      "text/plain": [
       "0.0344"
      ]
     },
     "execution_count": 140,
     "metadata": {},
     "output_type": "execute_result"
    }
   ],
   "source": [
    "round(1 - z_t[z_t.z_score(20, 16, 2.2)], 4)"
   ]
  },
  {
   "cell_type": "code",
   "execution_count": 141,
   "id": "dd1c87ce-b897-4b64-8730-8d799ca2fe55",
   "metadata": {
    "tags": []
   },
   "outputs": [
    {
     "data": {
      "text/plain": [
       "0.1814"
      ]
     },
     "execution_count": 141,
     "metadata": {},
     "output_type": "execute_result"
    }
   ],
   "source": [
    "z_t[z_t.z_score(14, 16, 2.2)]"
   ]
  },
  {
   "cell_type": "code",
   "execution_count": 142,
   "id": "1fb8e370-3c58-45ae-bd0d-33c2d974dd26",
   "metadata": {
    "tags": []
   },
   "outputs": [
    {
     "data": {
      "text/plain": [
       "0.0087"
      ]
     },
     "execution_count": 142,
     "metadata": {},
     "output_type": "execute_result"
    }
   ],
   "source": [
    "z_t.greater(16400, 12837, 1500)"
   ]
  },
  {
   "cell_type": "code",
   "execution_count": 143,
   "id": "a9bdaee7-ea5c-4793-af0b-00f4916eea1b",
   "metadata": {
    "tags": []
   },
   "outputs": [
    {
     "data": {
      "text/plain": [
       "0.1056"
      ]
     },
     "execution_count": 143,
     "metadata": {},
     "output_type": "execute_result"
    }
   ],
   "source": [
    "z_t.bound(14400, 15400, 12837, 1500)"
   ]
  },
  {
   "cell_type": "code",
   "execution_count": 144,
   "id": "30190856-3bca-4f93-bb75-a84356a50c98",
   "metadata": {
    "tags": []
   },
   "outputs": [
    {
     "data": {
      "text/plain": [
       "0.4364"
      ]
     },
     "execution_count": 144,
     "metadata": {},
     "output_type": "execute_result"
    }
   ],
   "source": [
    "z_t.greater(26, 25, 6.1)"
   ]
  },
  {
   "cell_type": "code",
   "execution_count": 145,
   "id": "76d7d35a-d8e7-456d-9f2d-f4638bd9840e",
   "metadata": {
    "tags": []
   },
   "outputs": [
    {
     "data": {
      "text/plain": [
       "0.2546"
      ]
     },
     "execution_count": 145,
     "metadata": {},
     "output_type": "execute_result"
    }
   ],
   "source": [
    "z_t.less(21, 25, 6.1)"
   ]
  },
  {
   "cell_type": "code",
   "execution_count": null,
   "id": "d22e0795-8caa-406d-bbc6-4281149736e1",
   "metadata": {},
   "outputs": [],
   "source": []
  },
  {
   "cell_type": "code",
   "execution_count": null,
   "id": "1536eee4-ab9b-4170-b70c-5065c33385f0",
   "metadata": {},
   "outputs": [],
   "source": [
    "p(x < 1.8) = .16, u = 212.2\n",
    "\n",
    "z = -2.15 = (x - u)/ std"
   ]
  },
  {
   "cell_type": "code",
   "execution_count": 154,
   "id": "a81fffcd-1e96-4a79-a445-c0cc403d2083",
   "metadata": {
    "tags": []
   },
   "outputs": [
    {
     "data": {
      "text/plain": [
       "27.288135593220332"
      ]
     },
     "execution_count": 154,
     "metadata": {},
     "output_type": "execute_result"
    }
   ],
   "source": [
    "(180 - 212.2) / -1.18"
   ]
  },
  {
   "cell_type": "code",
   "execution_count": 152,
   "id": "f0a449bb-26df-47c1-bd57-58b3fd7b0f3e",
   "metadata": {
    "tags": []
   },
   "outputs": [
    {
     "data": {
      "text/plain": [
       "-2.1395348837209296"
      ]
     },
     "execution_count": 152,
     "metadata": {},
     "output_type": "execute_result"
    }
   ],
   "source": [
    "(180 - 212.2) / 15.05"
   ]
  },
  {
   "cell_type": "code",
   "execution_count": 155,
   "id": "8df901b6-cd4b-4335-9786-53d802cbebf9",
   "metadata": {
    "tags": []
   },
   "outputs": [
    {
     "data": {
      "text/plain": [
       "0.0015"
      ]
     },
     "execution_count": 155,
     "metadata": {},
     "output_type": "execute_result"
    }
   ],
   "source": [
    "z_t.greater(384, 236, 50)"
   ]
  },
  {
   "cell_type": "code",
   "execution_count": 156,
   "id": "8b0a3359-6bfa-464a-8496-7d77de008b65",
   "metadata": {
    "tags": []
   },
   "outputs": [
    {
     "data": {
      "text/plain": [
       "0.6568"
      ]
     },
     "execution_count": 156,
     "metadata": {},
     "output_type": "execute_result"
    }
   ],
   "source": [
    "z_t.bound(67, 73, 71, 3)"
   ]
  },
  {
   "cell_type": "code",
   "execution_count": 157,
   "id": "9a0b7ec0-4277-44d7-94a1-81257694da22",
   "metadata": {
    "tags": []
   },
   "outputs": [
    {
     "data": {
      "text/plain": [
       "0.7486"
      ]
     },
     "execution_count": 157,
     "metadata": {},
     "output_type": "execute_result"
    }
   ],
   "source": [
    "z_t.greater(69, 71, 3)"
   ]
  },
  {
   "cell_type": "code",
   "execution_count": 158,
   "id": "7bab25c7-eb4c-4644-b8a1-3362717681a0",
   "metadata": {
    "tags": []
   },
   "outputs": [
    {
     "data": {
      "text/plain": [
       "0.8413"
      ]
     },
     "execution_count": 158,
     "metadata": {},
     "output_type": "execute_result"
    }
   ],
   "source": [
    "z_t.less(74, 71, 3)"
   ]
  },
  {
   "cell_type": "code",
   "execution_count": 161,
   "id": "d0167eaa-a620-4747-8f80-01991c4145f9",
   "metadata": {
    "tags": []
   },
   "outputs": [
    {
     "data": {
      "text/plain": [
       "93814.0"
      ]
     },
     "execution_count": 161,
     "metadata": {},
     "output_type": "execute_result"
    }
   ],
   "source": [
    "(0.67 * 5200) + 90330"
   ]
  },
  {
   "cell_type": "code",
   "execution_count": null,
   "id": "19be12c7-f770-453a-bf1d-d94af56c3c99",
   "metadata": {},
   "outputs": [],
   "source": [
    "0.68 = (x - u)/std = (99685) / 5200"
   ]
  },
  {
   "cell_type": "code",
   "execution_count": null,
   "id": "4522be2c-862c-4901-9c96-76aec21f0344",
   "metadata": {},
   "outputs": [],
   "source": []
  },
  {
   "cell_type": "code",
   "execution_count": 162,
   "id": "63343261-026c-4379-9209-a023c66e13cc",
   "metadata": {
    "tags": []
   },
   "outputs": [
    {
     "data": {
      "text/plain": [
       "694.15"
      ]
     },
     "execution_count": 162,
     "metadata": {},
     "output_type": "execute_result"
    }
   ],
   "source": [
    "(-0.95 * 103) + 792"
   ]
  },
  {
   "cell_type": "code",
   "execution_count": 163,
   "id": "7dbdb680-1d13-47f3-9b9f-e93f47fab46b",
   "metadata": {
    "tags": []
   },
   "outputs": [
    {
     "data": {
      "text/plain": [
       "889.85"
      ]
     },
     "execution_count": 163,
     "metadata": {},
     "output_type": "execute_result"
    }
   ],
   "source": [
    "(0.95 * 103) + 792"
   ]
  },
  {
   "cell_type": "code",
   "execution_count": 164,
   "id": "e85b4050-64e2-474e-9922-3773ede8c926",
   "metadata": {
    "tags": []
   },
   "outputs": [
    {
     "data": {
      "text/plain": [
       "232050.0"
      ]
     },
     "execution_count": 164,
     "metadata": {},
     "output_type": "execute_result"
    }
   ],
   "source": [
    "(-0.95 * 15000) + 246300"
   ]
  },
  {
   "cell_type": "code",
   "execution_count": 165,
   "id": "041a7059-2b83-4c94-a143-7fece6a41a1a",
   "metadata": {
    "tags": []
   },
   "outputs": [
    {
     "data": {
      "text/plain": [
       "260550.0"
      ]
     },
     "execution_count": 165,
     "metadata": {},
     "output_type": "execute_result"
    }
   ],
   "source": [
    "(0.95 * 15000) + 246300"
   ]
  },
  {
   "cell_type": "code",
   "execution_count": 166,
   "id": "35728912-be5f-48d5-8a2a-518d6ab0e449",
   "metadata": {
    "tags": []
   },
   "outputs": [
    {
     "data": {
      "text/plain": [
       "117.99"
      ]
     },
     "execution_count": 166,
     "metadata": {},
     "output_type": "execute_result"
    }
   ],
   "source": [
    "(-0.67 * 3) + 120"
   ]
  },
  {
   "cell_type": "code",
   "execution_count": 167,
   "id": "f9ee4fcd-4546-4631-b6fa-48af1f8c5261",
   "metadata": {
    "tags": []
   },
   "outputs": [
    {
     "data": {
      "text/plain": [
       "122.01"
      ]
     },
     "execution_count": 167,
     "metadata": {},
     "output_type": "execute_result"
    }
   ],
   "source": [
    "(0.67 * 3) + 120"
   ]
  },
  {
   "cell_type": "code",
   "execution_count": null,
   "id": "27787797-8045-4653-8419-baee734f7d86",
   "metadata": {},
   "outputs": [],
   "source": [
    "1.13 * x + 19.4 = 22\n"
   ]
  },
  {
   "cell_type": "code",
   "execution_count": 169,
   "id": "bae598cb-0482-4058-bcc4-14b3f7e93119",
   "metadata": {
    "tags": []
   },
   "outputs": [
    {
     "data": {
      "text/plain": [
       "3.518518518518519"
      ]
     },
     "execution_count": 169,
     "metadata": {},
     "output_type": "execute_result"
    }
   ],
   "source": [
    "(23.2-19.4)/ 1.08"
   ]
  },
  {
   "cell_type": "code",
   "execution_count": 173,
   "id": "c1f00d8a-6967-4724-9a7e-d82826e9837a",
   "metadata": {
    "tags": []
   },
   "outputs": [
    {
     "data": {
      "text/plain": [
       "174.67"
      ]
     },
     "execution_count": 173,
     "metadata": {},
     "output_type": "execute_result"
    }
   ],
   "source": [
    "(-2.33* 101) + 410"
   ]
  },
  {
   "cell_type": "code",
   "execution_count": null,
   "id": "e3dad2d6-013b-43ba-b20a-83ea606e091b",
   "metadata": {},
   "outputs": [],
   "source": [
    "z = 1.56\n",
    "u - 410\n",
    "s - 101\n",
    "\n"
   ]
  },
  {
   "cell_type": "code",
   "execution_count": 174,
   "id": "e24840a5-94db-43ef-b4d9-3bbd25e13fc3",
   "metadata": {
    "tags": []
   },
   "outputs": [
    {
     "data": {
      "text/plain": [
       "76"
      ]
     },
     "execution_count": 174,
     "metadata": {},
     "output_type": "execute_result"
    }
   ],
   "source": [
    "14 + 62"
   ]
  },
  {
   "cell_type": "code",
   "execution_count": 176,
   "id": "12802de1-60cc-4f09-a895-1470fe7d0749",
   "metadata": {
    "tags": []
   },
   "outputs": [
    {
     "data": {
      "text/plain": [
       "0.9747"
      ]
     },
     "execution_count": 176,
     "metadata": {},
     "output_type": "execute_result"
    }
   ],
   "source": [
    "z_t.bound(57, 64, 60, 8/np.sqrt(29))"
   ]
  },
  {
   "cell_type": "code",
   "execution_count": 177,
   "id": "20bacc7d-86c1-4eac-bff9-11b2aefa2586",
   "metadata": {
    "tags": []
   },
   "outputs": [
    {
     "data": {
      "text/plain": [
       "0.5984"
      ]
     },
     "execution_count": 177,
     "metadata": {},
     "output_type": "execute_result"
    }
   ],
   "source": [
    "z_t.bound(16.3, 17.3, 17.2, 2.5/np.sqrt(45))"
   ]
  },
  {
   "cell_type": "code",
   "execution_count": 178,
   "id": "9882691c-7ef3-435c-9f70-bfc396eeca17",
   "metadata": {
    "tags": []
   },
   "outputs": [
    {
     "data": {
      "text/plain": [
       "0.9979"
      ]
     },
     "execution_count": 178,
     "metadata": {},
     "output_type": "execute_result"
    }
   ],
   "source": [
    "z_t.greater(10, 12, 3.5/np.sqrt(25))"
   ]
  },
  {
   "cell_type": "code",
   "execution_count": 179,
   "id": "0f68953e-99bb-4bd7-9e59-048563b012f1",
   "metadata": {
    "tags": []
   },
   "outputs": [
    {
     "data": {
      "text/plain": [
       "0.0021"
      ]
     },
     "execution_count": 179,
     "metadata": {},
     "output_type": "execute_result"
    }
   ],
   "source": [
    "z_t.less(10, 12, 3.5/np.sqrt(25))"
   ]
  },
  {
   "cell_type": "code",
   "execution_count": 182,
   "id": "0c94e102-b7da-407e-ab61-abf0481c12e7",
   "metadata": {
    "tags": []
   },
   "outputs": [
    {
     "data": {
      "text/plain": [
       "0.4236"
      ]
     },
     "execution_count": 182,
     "metadata": {},
     "output_type": "execute_result"
    }
   ],
   "source": [
    "z_t.bound(11, 12, 12, 3.5/np.sqrt(25))"
   ]
  },
  {
   "cell_type": "code",
   "execution_count": 183,
   "id": "beceed58-ff78-4dbf-844a-94f2bb288f77",
   "metadata": {
    "tags": []
   },
   "outputs": [
    {
     "data": {
      "text/plain": [
       "0.3192"
      ]
     },
     "execution_count": 183,
     "metadata": {},
     "output_type": "execute_result"
    }
   ],
   "source": [
    "z_t.less(53800, 57337, 7500)"
   ]
  },
  {
   "cell_type": "code",
   "execution_count": 184,
   "id": "115a7f22-4096-4928-b16c-e9fe9224fb33",
   "metadata": {
    "tags": []
   },
   "outputs": [
    {
     "data": {
      "text/plain": [
       "0.1922"
      ]
     },
     "execution_count": 184,
     "metadata": {},
     "output_type": "execute_result"
    }
   ],
   "source": [
    "z_t.less(56300, 57337, 7500/np.sqrt(40))"
   ]
  },
  {
   "cell_type": "code",
   "execution_count": 185,
   "id": "c3f9e672-9311-425c-b0f6-652b0382d00c",
   "metadata": {
    "tags": []
   },
   "outputs": [
    {
     "data": {
      "text/plain": [
       "0.0166"
      ]
     },
     "execution_count": 185,
     "metadata": {},
     "output_type": "execute_result"
    }
   ],
   "source": [
    "z_t.greater(46300, 35441, 5100)"
   ]
  },
  {
   "cell_type": "code",
   "execution_count": 186,
   "id": "a7574bf6-be92-4ae2-9d75-3d81a31f9b41",
   "metadata": {
    "tags": []
   },
   "outputs": [
    {
     "data": {
      "text/plain": [
       "0.0174"
      ]
     },
     "execution_count": 186,
     "metadata": {},
     "output_type": "execute_result"
    }
   ],
   "source": [
    "z_t.greater(36894, 35441, 5100/np.sqrt(55))"
   ]
  },
  {
   "cell_type": "code",
   "execution_count": 187,
   "id": "b80be106-382e-454d-8973-75982925b207",
   "metadata": {
    "tags": []
   },
   "outputs": [
    {
     "data": {
      "text/plain": [
       "0.0019"
      ]
     },
     "execution_count": 187,
     "metadata": {},
     "output_type": "execute_result"
    }
   ],
   "source": [
    "z_t.greater(1048, 1028, 100/np.sqrt(210))"
   ]
  },
  {
   "cell_type": "code",
   "execution_count": 188,
   "id": "d95552d2-dcb9-4323-9b3d-9d4fa4f934b7",
   "metadata": {
    "tags": []
   },
   "outputs": [
    {
     "data": {
      "text/plain": [
       "0.0027"
      ]
     },
     "execution_count": 188,
     "metadata": {},
     "output_type": "execute_result"
    }
   ],
   "source": [
    "z_t.less(23.0, 24.3, 2.6/np.sqrt(31))"
   ]
  },
  {
   "cell_type": "code",
   "execution_count": 189,
   "id": "27853f1a-7b46-4187-ae92-181ea8e956eb",
   "metadata": {
    "tags": []
   },
   "outputs": [
    {
     "data": {
      "text/plain": [
       "0.0084"
      ]
     },
     "execution_count": 189,
     "metadata": {},
     "output_type": "execute_result"
    }
   ],
   "source": [
    "z_t.less(3840, 4064, 460/np.sqrt(24))"
   ]
  },
  {
   "cell_type": "code",
   "execution_count": 190,
   "id": "35803bbb-4b17-4f5a-817c-1c612f75420e",
   "metadata": {
    "tags": []
   },
   "outputs": [
    {
     "data": {
      "text/plain": [
       "0.1788"
      ]
     },
     "execution_count": 190,
     "metadata": {},
     "output_type": "execute_result"
    }
   ],
   "source": [
    "z_t.greater(4150, 4064, 460/np.sqrt(24))"
   ]
  },
  {
   "cell_type": "code",
   "execution_count": 191,
   "id": "2c160606-e171-47c6-8864-97ad1a3f04c3",
   "metadata": {
    "tags": []
   },
   "outputs": [
    {
     "data": {
      "text/plain": [
       "0.8577"
      ]
     },
     "execution_count": 191,
     "metadata": {},
     "output_type": "execute_result"
    }
   ],
   "source": [
    "z_t.greater(50900, 51803, 4850/np.sqrt(33))"
   ]
  },
  {
   "cell_type": "code",
   "execution_count": 193,
   "id": "7df653ac-a109-42c2-9cf3-32b2b1b18f71",
   "metadata": {
    "tags": []
   },
   "outputs": [
    {
     "data": {
      "text/plain": [
       "0.0089"
      ]
     },
     "execution_count": 193,
     "metadata": {},
     "output_type": "execute_result"
    }
   ],
   "source": [
    "z_t.less(49800, 51803, 4850/np.sqrt(33))"
   ]
  },
  {
   "cell_type": "code",
   "execution_count": 194,
   "id": "fa1883b0-e1b7-4047-8d7d-ef820675c546",
   "metadata": {
    "tags": []
   },
   "outputs": [
    {
     "data": {
      "text/plain": [
       "0.1255"
      ]
     },
     "execution_count": 194,
     "metadata": {},
     "output_type": "execute_result"
    }
   ],
   "source": [
    "z_t.bound(118.2, 120, 120, 5.6)"
   ]
  },
  {
   "cell_type": "code",
   "execution_count": 195,
   "id": "b2a6fa61-32b6-41f9-917d-5a2410b44723",
   "metadata": {
    "tags": []
   },
   "outputs": [
    {
     "data": {
      "text/plain": [
       "0.475"
      ]
     },
     "execution_count": 195,
     "metadata": {},
     "output_type": "execute_result"
    }
   ],
   "source": [
    "z_t.bound(118.2, 120, 120, 5.6/np.sqrt(37))"
   ]
  },
  {
   "cell_type": "code",
   "execution_count": 196,
   "id": "f86a2287-fbc8-4315-9503-6efdc88e8b28",
   "metadata": {
    "tags": []
   },
   "outputs": [
    {
     "data": {
      "text/plain": [
       "0.1418"
      ]
     },
     "execution_count": 196,
     "metadata": {},
     "output_type": "execute_result"
    }
   ],
   "source": [
    "z_t.bound(33.5, 35, 36.2, 3.7)"
   ]
  },
  {
   "cell_type": "code",
   "execution_count": 199,
   "id": "d0a6e432-0fa6-41e5-8d76-ca14d8ba6815",
   "metadata": {
    "tags": []
   },
   "outputs": [
    {
     "ename": "IndexError",
     "evalue": "index 0 is out of bounds for axis 0 with size 0",
     "output_type": "error",
     "traceback": [
      "\u001b[1;31m---------------------------------------------------------------------------\u001b[0m",
      "\u001b[1;31mIndexError\u001b[0m                                Traceback (most recent call last)",
      "Cell \u001b[1;32mIn[199], line 1\u001b[0m\n\u001b[1;32m----> 1\u001b[0m z_t\u001b[38;5;241m.\u001b[39mbound(\u001b[38;5;241m33.5\u001b[39m, \u001b[38;5;241m35\u001b[39m, \u001b[38;5;241m36.2\u001b[39m, \u001b[38;5;241m0.69\u001b[39m)\n",
      "Cell \u001b[1;32mIn[135], line 29\u001b[0m, in \u001b[0;36mz_table.bound\u001b[1;34m(self, left, right, mean, std)\u001b[0m\n\u001b[0;32m     28\u001b[0m \u001b[38;5;28;01mdef\u001b[39;00m \u001b[38;5;21mbound\u001b[39m(\u001b[38;5;28mself\u001b[39m, left, right, mean, std):\n\u001b[1;32m---> 29\u001b[0m     left_bound \u001b[38;5;241m=\u001b[39m \u001b[38;5;28mself\u001b[39m[\u001b[38;5;28mself\u001b[39m\u001b[38;5;241m.\u001b[39mz_score(left, mean, std)]\n\u001b[0;32m     30\u001b[0m     right_bound \u001b[38;5;241m=\u001b[39m \u001b[38;5;28mself\u001b[39m[\u001b[38;5;28mself\u001b[39m\u001b[38;5;241m.\u001b[39mz_score(right, mean, std)]\n\u001b[0;32m     31\u001b[0m     \u001b[38;5;28;01mreturn\u001b[39;00m \u001b[38;5;28mround\u001b[39m(right_bound \u001b[38;5;241m-\u001b[39m left_bound, \u001b[38;5;241m4\u001b[39m)\n",
      "Cell \u001b[1;32mIn[135], line 12\u001b[0m, in \u001b[0;36mz_table.__getitem__\u001b[1;34m(self, z_score)\u001b[0m\n\u001b[0;32m     10\u001b[0m col \u001b[38;5;241m=\u001b[39m \u001b[38;5;124m'\u001b[39m\u001b[38;5;124m0.0\u001b[39m\u001b[38;5;124m'\u001b[39m\u001b[38;5;241m+\u001b[39mdec_places[\u001b[38;5;241m-\u001b[39m\u001b[38;5;241m1\u001b[39m] \u001b[38;5;28;01mif\u001b[39;00m \u001b[38;5;28mlen\u001b[39m(dec_places) \u001b[38;5;241m==\u001b[39m \u001b[38;5;241m2\u001b[39m \u001b[38;5;28;01melse\u001b[39;00m \u001b[38;5;124m'\u001b[39m\u001b[38;5;124m0\u001b[39m\u001b[38;5;124m'\u001b[39m\n\u001b[0;32m     11\u001b[0m idx \u001b[38;5;241m=\u001b[39m \u001b[38;5;28mfloat\u001b[39m(\u001b[38;5;124m'\u001b[39m\u001b[38;5;124m.\u001b[39m\u001b[38;5;124m'\u001b[39m\u001b[38;5;241m.\u001b[39mjoin([split_score[\u001b[38;5;241m0\u001b[39m], dec_places[\u001b[38;5;241m0\u001b[39m]]))\n\u001b[1;32m---> 12\u001b[0m prob \u001b[38;5;241m=\u001b[39m \u001b[38;5;28mself\u001b[39m\u001b[38;5;241m.\u001b[39mtable[\u001b[38;5;28mself\u001b[39m\u001b[38;5;241m.\u001b[39mtable\u001b[38;5;241m.\u001b[39mZ \u001b[38;5;241m==\u001b[39m idx][col]\u001b[38;5;241m.\u001b[39mvalues[\u001b[38;5;241m0\u001b[39m]\n\u001b[0;32m     13\u001b[0m \u001b[38;5;28;01mif\u001b[39;00m flip:\n\u001b[0;32m     14\u001b[0m     prob \u001b[38;5;241m=\u001b[39m \u001b[38;5;241m1\u001b[39m \u001b[38;5;241m-\u001b[39m prob \n",
      "\u001b[1;31mIndexError\u001b[0m: index 0 is out of bounds for axis 0 with size 0"
     ]
    }
   ],
   "source": [
    "z_t.bound(33.5, 35, 36.2, 0.69)"
   ]
  },
  {
   "cell_type": "code",
   "execution_count": 210,
   "id": "df6b37f1-32c4-445a-9ed1-bd998aad4e44",
   "metadata": {
    "tags": []
   },
   "outputs": [
    {
     "data": {
      "text/plain": [
       "1978.757354213752"
      ]
     },
     "execution_count": 210,
     "metadata": {},
     "output_type": "execute_result"
    }
   ],
   "source": [
    "(-0.95 * 100/np.sqrt(20)) + 2000"
   ]
  },
  {
   "cell_type": "code",
   "execution_count": 201,
   "id": "47f52195-303c-4707-863f-06b17758de76",
   "metadata": {
    "tags": []
   },
   "outputs": [
    {
     "data": {
      "text/plain": [
       "-3.913043478260874"
      ]
     },
     "execution_count": 201,
     "metadata": {},
     "output_type": "execute_result"
    }
   ],
   "source": [
    "(33.5-36.2)/0.69"
   ]
  },
  {
   "cell_type": "code",
   "execution_count": 202,
   "id": "82bca43b-5d05-4a57-9e35-faa10d5730a7",
   "metadata": {
    "tags": []
   },
   "outputs": [
    {
     "data": {
      "text/plain": [
       "0.0401"
      ]
     },
     "execution_count": 202,
     "metadata": {},
     "output_type": "execute_result"
    }
   ],
   "source": [
    "z_t.less(35, 36.2, 3.7/np.sqrt(29))"
   ]
  },
  {
   "cell_type": "code",
   "execution_count": 211,
   "id": "6a662d69-c649-4129-b3e4-1405ba6ec938",
   "metadata": {
    "tags": []
   },
   "outputs": [
    {
     "data": {
      "text/plain": [
       "1.7888543819998317"
      ]
     },
     "execution_count": 211,
     "metadata": {},
     "output_type": "execute_result"
    }
   ],
   "source": [
    "16 / (80 ** 0.5)"
   ]
  },
  {
   "cell_type": "code",
   "execution_count": 212,
   "id": "640c692e-5ef1-4658-96d6-f143290756ad",
   "metadata": {
    "tags": []
   },
   "outputs": [
    {
     "data": {
      "text/plain": [
       "0.8945"
      ]
     },
     "execution_count": 212,
     "metadata": {},
     "output_type": "execute_result"
    }
   ],
   "source": [
    "1.789 / 2"
   ]
  },
  {
   "cell_type": "code",
   "execution_count": null,
   "id": "2b94e742-f9a7-4f04-b64c-24a1bb964e7f",
   "metadata": {},
   "outputs": [],
   "source": [
    "0.8945 "
   ]
  }
 ],
 "metadata": {
  "kernelspec": {
   "display_name": "ocr_env",
   "language": "python",
   "name": "ocr_env"
  },
  "language_info": {
   "codemirror_mode": {
    "name": "ipython",
    "version": 3
   },
   "file_extension": ".py",
   "mimetype": "text/x-python",
   "name": "python",
   "nbconvert_exporter": "python",
   "pygments_lexer": "ipython3",
   "version": "3.11.3"
  }
 },
 "nbformat": 4,
 "nbformat_minor": 5
}
