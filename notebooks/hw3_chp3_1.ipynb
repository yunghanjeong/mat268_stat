{
 "cells": [
  {
   "cell_type": "markdown",
   "id": "17f11c2a-305a-4d66-9804-6afb70496ad8",
   "metadata": {
    "tags": []
   },
   "source": [
    "# Measure of Central Tendency\n",
    "\n",
    "Topics covered:\n",
    "\n",
    "- Mean\n",
    "- Median\n",
    "- Mode\n",
    "- Midrange"
   ]
  },
  {
   "cell_type": "code",
   "execution_count": 1,
   "id": "9c519af2-e87f-46be-b23f-66d52ec325f4",
   "metadata": {
    "tags": []
   },
   "outputs": [],
   "source": [
    "import os\n",
    "import sys\n",
    "import numpy as np\n",
    "import pandas as pd\n",
    "sys.path.append('..//utils')\n",
    "import helpers as hp"
   ]
  },
  {
   "cell_type": "code",
   "execution_count": 2,
   "id": "92eff562-3e12-49fb-85ab-6209f13e4ad9",
   "metadata": {
    "tags": []
   },
   "outputs": [],
   "source": [
    "csv_file = 1304590969\n",
    "df = hp.load_data(csv_file)\n",
    "test_values = df.iloc[:,0]\n",
    "ctv = hp.measure_ctv(test_values)"
   ]
  },
  {
   "cell_type": "code",
   "execution_count": 3,
   "id": "9fb908be-5971-4059-a389-c9a8302fcfa0",
   "metadata": {
    "tags": []
   },
   "outputs": [
    {
     "name": "stdout",
     "output_type": "stream",
     "text": [
      "Mean 218.66666666666666\n",
      "Median 221.0\n",
      "Mode None\n",
      "Midrange 215.5\n"
     ]
    }
   ],
   "source": [
    "mean, median, mode, midrange = ctv\n",
    "\n",
    "print(f'Mean {mean}')\n",
    "print(f'Median {median}')\n",
    "print(f'Mode {mode}')\n",
    "print(f'Midrange {midrange}')"
   ]
  },
  {
   "cell_type": "code",
   "execution_count": 18,
   "id": "a1242ff0-f64a-45c8-96ca-6c3d42931f58",
   "metadata": {
    "tags": []
   },
   "outputs": [
    {
     "data": {
      "text/html": [
       "<div>\n",
       "<style scoped>\n",
       "    .dataframe tbody tr th:only-of-type {\n",
       "        vertical-align: middle;\n",
       "    }\n",
       "\n",
       "    .dataframe tbody tr th {\n",
       "        vertical-align: top;\n",
       "    }\n",
       "\n",
       "    .dataframe thead th {\n",
       "        text-align: right;\n",
       "    }\n",
       "</style>\n",
       "<table border=\"1\" class=\"dataframe\">\n",
       "  <thead>\n",
       "    <tr style=\"text-align: right;\">\n",
       "      <th></th>\n",
       "      <th>=\"the most observers\"</th>\n",
       "      <th>=\"the most active watchers list\"</th>\n",
       "    </tr>\n",
       "  </thead>\n",
       "  <tbody>\n",
       "    <tr>\n",
       "      <th>1</th>\n",
       "      <td>484</td>\n",
       "      <td>634</td>\n",
       "    </tr>\n",
       "    <tr>\n",
       "      <th>2</th>\n",
       "      <td>483</td>\n",
       "      <td>464</td>\n",
       "    </tr>\n",
       "    <tr>\n",
       "      <th>3</th>\n",
       "      <td>422</td>\n",
       "      <td>406</td>\n",
       "    </tr>\n",
       "    <tr>\n",
       "      <th>4</th>\n",
       "      <td>396</td>\n",
       "      <td>267</td>\n",
       "    </tr>\n",
       "    <tr>\n",
       "      <th>5</th>\n",
       "      <td>378</td>\n",
       "      <td>219</td>\n",
       "    </tr>\n",
       "  </tbody>\n",
       "</table>\n",
       "</div>"
      ],
      "text/plain": [
       "0  =\"the most observers\"  =\"the most active watchers list\"\n",
       "1                    484                               634\n",
       "2                    483                               464\n",
       "3                    422                               406\n",
       "4                    396                               267\n",
       "5                    378                               219"
      ]
     },
     "execution_count": 18,
     "metadata": {},
     "output_type": "execute_result"
    }
   ],
   "source": [
    "csv_file = 954463397\n",
    "df = hp.load_data(csv_file)\n",
    "df.columns = df.iloc[0]\n",
    "df = df.iloc[1:]\n",
    "df = df.astype(int)\n",
    "df.head()"
   ]
  },
  {
   "cell_type": "code",
   "execution_count": 17,
   "id": "189a8968-b86b-42fb-9e83-1d1a7462d3ff",
   "metadata": {
    "tags": []
   },
   "outputs": [
    {
     "name": "stdout",
     "output_type": "stream",
     "text": [
      "Mean 432.6\n",
      "Median 422.0\n",
      "Mode None\n",
      "Midrange 431.0\n"
     ]
    }
   ],
   "source": [
    "ctv = hp.measure_ctv(df.iloc[:, 0])\n",
    "mean, median, mode, midrange = ctv\n",
    "\n",
    "print(f'Mean {mean}')\n",
    "print(f'Median {median}')\n",
    "print(f'Mode {mode}')\n",
    "print(f'Midrange {midrange}')"
   ]
  },
  {
   "cell_type": "code",
   "execution_count": 19,
   "id": "4776f0f2-9079-430f-afef-edbaf888f778",
   "metadata": {
    "tags": []
   },
   "outputs": [
    {
     "name": "stdout",
     "output_type": "stream",
     "text": [
      "Mean 398.0\n",
      "Median 406.0\n",
      "Mode None\n",
      "Midrange 426.5\n"
     ]
    }
   ],
   "source": [
    "ctv = hp.measure_ctv(df.iloc[:, 1])\n",
    "mean, median, mode, midrange = ctv\n",
    "\n",
    "print(f'Mean {mean}')\n",
    "print(f'Median {median}')\n",
    "print(f'Mode {mode}')\n",
    "print(f'Midrange {midrange}')"
   ]
  },
  {
   "cell_type": "code",
   "execution_count": 20,
   "id": "5127d2a4-4192-40e9-b480-299dc22f6112",
   "metadata": {
    "tags": []
   },
   "outputs": [],
   "source": [
    "celeb_vals = [350, 235, 90, 55, 50, 35, 15, 15, 10, 9]\n",
    "celeb_series = pd.Series(celeb_vals)"
   ]
  },
  {
   "cell_type": "code",
   "execution_count": 22,
   "id": "ecf66454-7437-4341-b332-314e539d96d4",
   "metadata": {
    "tags": []
   },
   "outputs": [
    {
     "name": "stdout",
     "output_type": "stream",
     "text": [
      "Mean 86.4\n",
      "Median 42.5\n",
      "Mode [15]\n",
      "Midrange 179.5\n"
     ]
    }
   ],
   "source": [
    "ctv = hp.measure_ctv(celeb_series)\n",
    "mean, median, mode, midrange = ctv\n",
    "\n",
    "print(f'Mean {mean}')\n",
    "print(f'Median {median}')\n",
    "print(f'Mode {mode}')\n",
    "print(f'Midrange {midrange}')"
   ]
  },
  {
   "cell_type": "code",
   "execution_count": 53,
   "id": "ed6976a1-1d16-4fe5-bbe5-ab39e7af6581",
   "metadata": {
    "tags": []
   },
   "outputs": [],
   "source": [
    "csv_file = 689774952\n",
    "df = hp.load_data(csv_file)\n",
    "values = df.iloc[:, 0]\n",
    "values.name = 0"
   ]
  },
  {
   "cell_type": "code",
   "execution_count": 51,
   "id": "c6d6e3de-2a24-4014-9b0b-ff01740729cc",
   "metadata": {
    "tags": []
   },
   "outputs": [
    {
     "name": "stdout",
     "output_type": "stream",
     "text": [
      "Mean 26.58125\n",
      "Median 25.2\n",
      "Mode [19.1 24.  25.2 31.7]\n",
      "Midrange 30.400000000000002\n"
     ]
    }
   ],
   "source": [
    "ctv = hp.measure_ctv(values)\n",
    "mean, median, mode, midrange = ctv\n",
    "\n",
    "print(f'Mean {mean}')\n",
    "print(f'Median {median}')\n",
    "print(f'Mode {mode}')\n",
    "print(f'Midrange {midrange}')"
   ]
  },
  {
   "cell_type": "code",
   "execution_count": 33,
   "id": "6e2e638c-5565-473c-8809-40b4a16551b9",
   "metadata": {
    "tags": []
   },
   "outputs": [],
   "source": [
    "star_vals = [51.5, 25.3, 25.1, 11.4, 33.7, 16.8, 36.7, 4.4, 42.2, 8.6]\n",
    "star_series = pd.Series(star_vals)"
   ]
  },
  {
   "cell_type": "code",
   "execution_count": 34,
   "id": "9647808b-3588-4785-b62c-24f74e338113",
   "metadata": {
    "tags": []
   },
   "outputs": [
    {
     "name": "stdout",
     "output_type": "stream",
     "text": [
      "Mean 25.569999999999997\n",
      "Median 25.200000000000003\n",
      "Mode None\n",
      "Midrange 27.95\n"
     ]
    }
   ],
   "source": [
    "ctv = hp.measure_ctv(star_series)\n",
    "mean, median, mode, midrange = ctv\n",
    "\n",
    "print(f'Mean {mean}')\n",
    "print(f'Median {median}')\n",
    "print(f'Mode {mode}')\n",
    "print(f'Midrange {midrange}')"
   ]
  },
  {
   "cell_type": "code",
   "execution_count": 38,
   "id": "fd221451-d342-427e-9f16-22805f0ccc4a",
   "metadata": {
    "tags": []
   },
   "outputs": [
    {
     "name": "stdout",
     "output_type": "stream",
     "text": [
      "8.405405405405405\n"
     ]
    }
   ],
   "source": [
    "# midpoint and freq dist for mean\n",
    "bound = np.array([2., 5., 8., 11., 14.])\n",
    "freq = np.array([5, 8, 11, 3, 10])\n",
    "mean = np.dot(bound, freq) / freq.sum()\n",
    "print(mean)"
   ]
  },
  {
   "cell_type": "code",
   "execution_count": 39,
   "id": "7645a2a6-5b3f-4084-bdde-a37e16ceadcf",
   "metadata": {
    "tags": []
   },
   "outputs": [
    {
     "name": "stdout",
     "output_type": "stream",
     "text": [
      "30.53846153846154\n"
     ]
    }
   ],
   "source": [
    "# midpoint and freq dist for mean\n",
    "bound = np.array([16, 25, 34, 43, 52, 61])\n",
    "freq = np.array([10, 12, 5, 8, 3, 1])\n",
    "mean = np.dot(bound, freq) / freq.sum()\n",
    "print(mean)"
   ]
  },
  {
   "cell_type": "code",
   "execution_count": 40,
   "id": "9b0c729d-426b-4a85-b854-36d38c2892c7",
   "metadata": {
    "tags": []
   },
   "outputs": [
    {
     "name": "stdout",
     "output_type": "stream",
     "text": [
      "36.30327868852459\n"
     ]
    }
   ],
   "source": [
    "# midpoint and freq dist for mean\n",
    "bound = np.array([14.5, 24.5, 34.5, 44.5, 54.5, 64.5])\n",
    "freq = np.array([13, 11, 15, 8, 2, 12])\n",
    "mean = np.dot(bound, freq) / freq.sum()\n",
    "print(mean)"
   ]
  },
  {
   "cell_type": "code",
   "execution_count": 41,
   "id": "73321578-63f8-41a1-8b4a-be35e1840eee",
   "metadata": {
    "tags": []
   },
   "outputs": [
    {
     "name": "stdout",
     "output_type": "stream",
     "text": [
      "20.448275862068964\n"
     ]
    }
   ],
   "source": [
    "# midpoint and freq dist for mean\n",
    "bound = np.array([22, 25, 16])\n",
    "freq = np.array([8, 9, 12])\n",
    "mean = np.dot(bound, freq) / freq.sum()\n",
    "print(mean)"
   ]
  },
  {
   "cell_type": "code",
   "execution_count": 42,
   "id": "c720f70f-3d2f-4dfd-885f-3b715cd7d001",
   "metadata": {
    "tags": []
   },
   "outputs": [
    {
     "name": "stdout",
     "output_type": "stream",
     "text": [
      "0.2846153846153846\n"
     ]
    }
   ],
   "source": [
    "# midpoint and freq dist for mean\n",
    "bound = np.array([.4, .1, .6])\n",
    "freq = np.array([2000, 3300, 1200])\n",
    "mean = np.dot(bound, freq) / freq.sum()\n",
    "print(mean)"
   ]
  },
  {
   "cell_type": "code",
   "execution_count": 45,
   "id": "3a4b2836-8b3b-4a89-b064-2224bdfbcceb",
   "metadata": {
    "tags": []
   },
   "outputs": [
    {
     "name": "stdout",
     "output_type": "stream",
     "text": [
      "94.8\n"
     ]
    }
   ],
   "source": [
    "# weighted score\n",
    "bound = np.array([.2, .2, .6])\n",
    "freq = np.array([91, 92, 97])\n",
    "mean = np.dot(bound, freq)\n",
    "print(mean)"
   ]
  },
  {
   "cell_type": "code",
   "execution_count": 46,
   "id": "73e556e9-0e16-41ca-9fbd-d17c3a46b62e",
   "metadata": {
    "tags": []
   },
   "outputs": [
    {
     "data": {
      "text/plain": [
       "387"
      ]
     },
     "execution_count": 46,
     "metadata": {},
     "output_type": "execute_result"
    }
   ],
   "source": [
    "43*9"
   ]
  },
  {
   "cell_type": "code",
   "execution_count": 49,
   "id": "3b8caa69-6e56-4af7-8f38-aedbf868197b",
   "metadata": {
    "tags": []
   },
   "outputs": [
    {
     "data": {
      "text/plain": [
       "10.0"
      ]
     },
     "execution_count": 49,
     "metadata": {},
     "output_type": "execute_result"
    }
   ],
   "source": [
    "9.6*5 - sum([8, 9, 11, 10])"
   ]
  },
  {
   "cell_type": "code",
   "execution_count": null,
   "id": "a393370e-58b8-46e4-a7b0-f8b11bc7824a",
   "metadata": {},
   "outputs": [],
   "source": []
  }
 ],
 "metadata": {
  "kernelspec": {
   "display_name": "ocr_env",
   "language": "python",
   "name": "ocr_env"
  },
  "language_info": {
   "codemirror_mode": {
    "name": "ipython",
    "version": 3
   },
   "file_extension": ".py",
   "mimetype": "text/x-python",
   "name": "python",
   "nbconvert_exporter": "python",
   "pygments_lexer": "ipython3",
   "version": "3.11.3"
  }
 },
 "nbformat": 4,
 "nbformat_minor": 5
}
